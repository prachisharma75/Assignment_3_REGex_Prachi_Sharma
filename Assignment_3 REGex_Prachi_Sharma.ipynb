{
 "cells": [
  {
   "cell_type": "markdown",
   "metadata": {},
   "source": [
    "# Task 3\n",
    "# Registration Id - SIRSS1187\n",
    "# Prachi Sharma"
   ]
  },
  {
   "cell_type": "markdown",
   "metadata": {},
   "source": [
    "Function to return nth term of Fibonacci sequence."
   ]
  },
  {
   "cell_type": "code",
   "execution_count": 1,
   "metadata": {},
   "outputs": [
    {
     "name": "stdout",
     "output_type": "stream",
     "text": [
      "enter value of k : 30\n",
      "nth term of Fibonacci sequence is :  317811\n"
     ]
    }
   ],
   "source": [
    "def fibonacci(k):\n",
    "    fibon = 1\n",
    "    seq = 0\n",
    "    if k<= 2:\n",
    "        return 1\n",
    "    for i in range(2, k):\n",
    "        ans = fibon + seq\n",
    "        fibon = seq\n",
    "        seq = ans\n",
    "    return ans\n",
    "\n",
    "number = input(\"enter value of k : \")\n",
    "print(\"nth term of Fibonacci sequence is : \" ,fibonacci(int(number)))"
   ]
  },
  {
   "cell_type": "markdown",
   "metadata": {},
   "source": [
    "Function to find out GCD of two numbers using EUCLID'S algorithm."
   ]
  },
  {
   "cell_type": "code",
   "execution_count": 2,
   "metadata": {},
   "outputs": [
    {
     "name": "stdout",
     "output_type": "stream",
     "text": [
      "Enter first Number : 76\n",
      "Enter second Number : 49\n",
      "GCD of (76,49) =  1\n"
     ]
    }
   ],
   "source": [
    "def gcd(num1, num2) :\n",
    "    if num2 == 0 :\n",
    "        return num1\n",
    "    else :\n",
    "        return gcd(num2, num1 % num2)\n",
    "        \n",
    "first_input = int(input(\"Enter first Number : \"))\n",
    "second_input = int(input(\"Enter second Number : \"))\n",
    "\n",
    "print(f\"GCD of ({first_input},{second_input}) = \", gcd(first_input, second_input))"
   ]
  },
  {
   "cell_type": "markdown",
   "metadata": {},
   "source": [
    "Function to find LCM of two number in most optimizers way."
   ]
  },
  {
   "cell_type": "code",
   "execution_count": 3,
   "metadata": {},
   "outputs": [
    {
     "name": "stdout",
     "output_type": "stream",
     "text": [
      "Enter first number : 16\n",
      "Enter second number : 14\n",
      "LCM of 16 and 14 is 112.0\n"
     ]
    }
   ],
   "source": [
    "def LCM(p,q):\n",
    "    return(p / gcd(p,q))*q\n",
    "p = int(input(\"Enter first number : \"))\n",
    "q = int(input(\"Enter second number : \"))\n",
    "print('LCM of', p, 'and', q, 'is', LCM(p,q))"
   ]
  },
  {
   "cell_type": "code",
   "execution_count": null,
   "metadata": {},
   "outputs": [],
   "source": []
  }
 ],
 "metadata": {
  "kernelspec": {
   "display_name": "Python 3",
   "language": "python",
   "name": "python3"
  },
  "language_info": {
   "codemirror_mode": {
    "name": "ipython",
    "version": 3
   },
   "file_extension": ".py",
   "mimetype": "text/x-python",
   "name": "python",
   "nbconvert_exporter": "python",
   "pygments_lexer": "ipython3",
   "version": "3.8.5"
  }
 },
 "nbformat": 4,
 "nbformat_minor": 4
}
